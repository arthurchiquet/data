{
 "cells": [
  {
   "cell_type": "markdown",
   "metadata": {
    "id": "z6BR7f69-I4t"
   },
   "source": []
  },
  {
   "cell_type": "code",
   "execution_count": 1,
   "metadata": {
    "executionInfo": {
     "elapsed": 235,
     "status": "ok",
     "timestamp": 1732550135623,
     "user": {
      "displayName": "Arthur Chiquet",
      "userId": "16057089693707298853"
     },
     "user_tz": -60
    },
    "id": "FPjA11fhSdEt"
   },
   "outputs": [],
   "source": [
    "from pyairtable import Api\n",
    "from pyairtable.formulas import match\n",
    "import pandas as pd\n",
    "import requests\n",
    "import json\n",
    "from collections import defaultdict\n",
    "from turfpy.transformation import union\n",
    "from geojson import FeatureCollection, Feature\n",
    "\n",
    "api_airtable_key = \"patfZxFRQiBjvIvvo.677f2eac18aacda776f61eace4bd46c28c6c393db89afd086a41933bd2f39ad2\"\n",
    "MAPBOX_TOKEN = \"pk.eyJ1IjoiYXJ0aHVyY2hpcXVldCIsImEiOiJjbHBoaHB6MncwMXNlMmxucDBlYndpaW93In0.Muo3cgXaUJjMC14H9bXfUw\""
   ]
  },
  {
   "cell_type": "code",
   "execution_count": 2,
   "metadata": {
    "executionInfo": {
     "elapsed": 299,
     "status": "ok",
     "timestamp": 1732550176528,
     "user": {
      "displayName": "Arthur Chiquet",
      "userId": "16057089693707298853"
     },
     "user_tz": -60
    },
    "id": "C1BVyRDNCGYK"
   },
   "outputs": [],
   "source": [
    "colonnes_fiches = [\n",
    "    \"codecommune\",\n",
    "    \"nomcommune\",\n",
    "    \"sectioncadastrale\",\n",
    "    \"numeroplan\",\n",
    "    \"lieuxdit\",\n",
    "    \"nomproprietaire\",\n",
    "    \"modedefairevaloir\",\n",
    "    \"nomcepage\",\n",
    "    \"nomportegreffe\",\n",
    "    \"anneeplantation\",\n",
    "    \"surfaceplantee\"\n",
    "]"
   ]
  },
  {
   "cell_type": "code",
   "execution_count": 3,
   "metadata": {
    "executionInfo": {
     "elapsed": 248,
     "status": "ok",
     "timestamp": 1732550179165,
     "user": {
      "displayName": "Arthur Chiquet",
      "userId": "16057089693707298853"
     },
     "user_tz": -60
    },
    "id": "3j3b8tbgDpNv"
   },
   "outputs": [],
   "source": [
    "def match_surface_p(x, y, dict_surface_p):\n",
    "    try:\n",
    "        return dict_surface_p[x]\n",
    "    except KeyError:\n",
    "        return y / 10000"
   ]
  },
  {
   "cell_type": "code",
   "execution_count": 4,
   "metadata": {
    "executionInfo": {
     "elapsed": 338,
     "status": "ok",
     "timestamp": 1732550181338,
     "user": {
      "displayName": "Arthur Chiquet",
      "userId": "16057089693707298853"
     },
     "user_tz": -60
    },
    "id": "elwwLDVXDhO8"
   },
   "outputs": [],
   "source": [
    "def formater_fiche(df):\n",
    "    df = (\n",
    "        df.groupby([\"codecommune\", \"sectioncadastrale\", \"numeroplan\"])\n",
    "        .agg(\n",
    "            {\n",
    "                \"nomproprietaire\": \"first\",\n",
    "                \"nomcommune\": \"first\",\n",
    "                \"lieuxdit\": \"first\",\n",
    "                \"nomcepage\": list,\n",
    "                \"anneeplantation\": list,\n",
    "                \"surfaceplantee\": \"sum\",\n",
    "            }\n",
    "        )\n",
    "        .reset_index()\n",
    "    )\n",
    "\n",
    "    df[\"codecommune\"]=df[\"codecommune\"].astype(str).map(lambda x: x[:2]+x[3:])\n",
    "\n",
    "    df[\"sectioncadastrale\"] = (\n",
    "        df[\"sectioncadastrale\"]\n",
    "        .map(lambda x: x.replace(\" \", \"\"))\n",
    "        .map(lambda x: (2 - len(x)) * \"0\" + x)\n",
    "    )\n",
    "\n",
    "    df[\"numeroplan\"] = (\n",
    "        df[\"numeroplan\"].astype(str).map(lambda x: (4 - len(x)) * \"0\" + x)\n",
    "    )\n",
    "\n",
    "    df[\"nomcepage\"] = df[\"nomcepage\"].map(lambda x: str(list(set(x))))\n",
    "    df[\"anneeplantation\"] = df[\"anneeplantation\"].map(lambda x: str(list(set(x))))\n",
    "    df[\"id\"] = df[\"codecommune\"] + df[\"sectioncadastrale\"] + df[\"numeroplan\"]\n",
    "    return df"
   ]
  },
  {
   "cell_type": "code",
   "execution_count": 5,
   "metadata": {
    "executionInfo": {
     "elapsed": 236,
     "status": "ok",
     "timestamp": 1732550191541,
     "user": {
      "displayName": "Arthur Chiquet",
      "userId": "16057089693707298853"
     },
     "user_tz": -60
    },
    "id": "Der4Uqv7_CGS"
   },
   "outputs": [],
   "source": [
    "def get_features(df, nom):\n",
    "  features = []\n",
    "  for i in range(df.shape[0]):\n",
    "\n",
    "      try:\n",
    "          res = requests.get(\n",
    "              f\"https://apicarto.ign.fr/api/cadastre/parcelle?code_insee={df['codecommune'][i]}&section={df['sectioncadastrale'][i]}&numero={df['numeroplan'][i]}&source_ign=PCI\"\n",
    "          )\n",
    "          res.raise_for_status()\n",
    "          coordinates = res.json()[\"features\"][0][\"geometry\"][\"coordinates\"][0]\n",
    "      except requests.ConnectionError:\n",
    "          break\n",
    "      except requests.RequestException:\n",
    "          break\n",
    "      except IndexError:\n",
    "          coordinates = [[]]\n",
    "      except KeyError:\n",
    "          coordinates = [[]]\n",
    "      features.append({\n",
    "              \"id\" : abs(hash(df[\"id\"][i])),\n",
    "              \"type\": \"Feature\",\n",
    "              \"geometry\": {\n",
    "                  \"type\": \"Polygon\",\n",
    "                  \"coordinates\": coordinates,\n",
    "              },\n",
    "              \"properties\": {\n",
    "                  \"nomproprietaire\": nom,\n",
    "                  \"codecommune\": df[\"codecommune\"][i],\n",
    "                  \"nom\": df[\"lieuxdit\"][i],\n",
    "                  \"cepage\": df[\"nomcepage\"][i],\n",
    "                  \"annee\": df[\"anneeplantation\"][i],\n",
    "                  \"surface_p\": int(df[\"surfaceplantee\"][i])\n",
    "              }\n",
    "          })\n",
    "      print(f\"{i+1}/{df.shape[0]} parcelle(s) téléchargée(s)\")\n",
    "  return features"
   ]
  },
  {
   "cell_type": "code",
   "execution_count": 6,
   "metadata": {},
   "outputs": [],
   "source": [
    "def geojson_to_dict_by_commune(features):\n",
    "    commune_dict = defaultdict(list)\n",
    "    for feature in features:\n",
    "        commune = feature.get(\"properties\", {}).get(\"codecommune\")\n",
    "        if commune:\n",
    "            commune_dict[commune].append(Feature(geometry=feature['geometry']))\n",
    "    return dict(commune_dict)"
   ]
  },
  {
   "cell_type": "code",
   "execution_count": 7,
   "metadata": {
    "executionInfo": {
     "elapsed": 456,
     "status": "ok",
     "timestamp": 1732551055710,
     "user": {
      "displayName": "Arthur Chiquet",
      "userId": "16057089693707298853"
     },
     "user_tz": -60
    },
    "id": "syv4k830_VPn"
   },
   "outputs": [],
   "source": [
    "api = Api(api_airtable_key)\n",
    "table = api.table('app08SGfxSPaGDDEH', 'tbl0Iz3svkG3iY4Xo')\n",
    "records = table.all(formula=match({\"Statut\": \"Pending\"}))"
   ]
  },
  {
   "cell_type": "code",
   "execution_count": 8,
   "metadata": {
    "colab": {
     "base_uri": "https://localhost:8080/"
    },
    "executionInfo": {
     "elapsed": 20126,
     "status": "ok",
     "timestamp": 1732551077296,
     "user": {
      "displayName": "Arthur Chiquet",
      "userId": "16057089693707298853"
     },
     "user_tz": -60
    },
    "id": "zbT2F0Vuwyqo",
    "outputId": "52ba2320-c781-4e33-dbec-688e1379f244"
   },
   "outputs": [
    {
     "name": "stdout",
     "output_type": "stream",
     "text": [
      "record 1/1\n",
      "1/32 parcelle(s) téléchargée(s)\n",
      "2/32 parcelle(s) téléchargée(s)\n",
      "3/32 parcelle(s) téléchargée(s)\n",
      "4/32 parcelle(s) téléchargée(s)\n",
      "5/32 parcelle(s) téléchargée(s)\n",
      "6/32 parcelle(s) téléchargée(s)\n",
      "7/32 parcelle(s) téléchargée(s)\n",
      "8/32 parcelle(s) téléchargée(s)\n",
      "9/32 parcelle(s) téléchargée(s)\n",
      "10/32 parcelle(s) téléchargée(s)\n",
      "11/32 parcelle(s) téléchargée(s)\n",
      "12/32 parcelle(s) téléchargée(s)\n",
      "13/32 parcelle(s) téléchargée(s)\n",
      "14/32 parcelle(s) téléchargée(s)\n",
      "15/32 parcelle(s) téléchargée(s)\n",
      "16/32 parcelle(s) téléchargée(s)\n",
      "17/32 parcelle(s) téléchargée(s)\n",
      "18/32 parcelle(s) téléchargée(s)\n",
      "19/32 parcelle(s) téléchargée(s)\n",
      "20/32 parcelle(s) téléchargée(s)\n",
      "21/32 parcelle(s) téléchargée(s)\n",
      "22/32 parcelle(s) téléchargée(s)\n",
      "23/32 parcelle(s) téléchargée(s)\n",
      "24/32 parcelle(s) téléchargée(s)\n",
      "25/32 parcelle(s) téléchargée(s)\n",
      "26/32 parcelle(s) téléchargée(s)\n",
      "27/32 parcelle(s) téléchargée(s)\n",
      "28/32 parcelle(s) téléchargée(s)\n",
      "29/32 parcelle(s) téléchargée(s)\n",
      "30/32 parcelle(s) téléchargée(s)\n",
      "31/32 parcelle(s) téléchargée(s)\n",
      "32/32 parcelle(s) téléchargée(s)\n",
      "Enregistrement du fichier ../parcelles/commune/51030.json\n",
      "Enregistrement du fichier ../parcelles/commune/51119.json\n",
      "Enregistrement du fichier ../parcelles/commune/51210.json\n",
      "Enregistrement du fichier ../parcelles/commune/51287.json\n",
      "Le fichier JSON des parcelles a été mis à jour avec succès.\n"
     ]
    }
   ],
   "source": [
    "i = 1\n",
    "# Traitement des enregistrements\n",
    "for record in records:\n",
    "    print(f\"record {i}/{len(records)}\")\n",
    "\n",
    "    # Récupération des données\n",
    "    csv_url = record['fields']['Parcellaire'][0]['url']\n",
    "    nom = record['fields']['Nom']\n",
    "    adresse = record['fields']['Adresse']\n",
    "\n",
    "    # Lecture et nettoyage du fichier CSV\n",
    "    df = pd.read_csv(csv_url, sep=\";\")\n",
    "    df.columns = (\n",
    "        df.columns.str.replace(\" \", \"\")\n",
    "        .str.replace(\"_\", \"\")\n",
    "        .str.replace(\"-\", \"\")\n",
    "    )\n",
    "\n",
    "    # Validation du format des données\n",
    "    if df.columns.tolist() != colonnes_fiches:\n",
    "        print(\"Le format de données ne correspond pas. Veuillez vérifier l'intitulé des colonnes de votre fichier\")\n",
    "        break\n",
    "    elif df.shape[0] == 0:\n",
    "        print(\"Le fichier est vide\")\n",
    "        break\n",
    "\n",
    "    # Traitement des données du fichier CSV\n",
    "    clean_df = formater_fiche(df)\n",
    "\n",
    "    # Téléchargement des parcelles\n",
    "    features = get_features(clean_df, nom)\n",
    "    geojson = {\n",
    "      \"type\": \"FeatureCollection\",\n",
    "      \"features\": features\n",
    "    }\n",
    "\n",
    "    with open(f'../parcelles/exploitation/{nom}.json', 'w') as f:\n",
    "        json.dump(geojson, f)\n",
    "\n",
    "    try:\n",
    "        result = geojson_to_dict_by_commune(features)\n",
    "\n",
    "        for commune, features in result.items():\n",
    "            try:\n",
    "                with open(f'../parcelles/commune/{commune}.json', 'r') as file:\n",
    "                    data = json.load(file)\n",
    "            except FileNotFoundError:\n",
    "                data = {\n",
    "                    \"type\": \"FeatureCollection\",\n",
    "                    \"features\": []\n",
    "                }\n",
    "\n",
    "            # Union des features\n",
    "            unified_features = union(FeatureCollection(features))\n",
    "            unified_features['properties']['nom'] = nom\n",
    "            unified_features['properties']['adresse'] = adresse\n",
    "            unified_features['id'] = abs(hash(nom))\n",
    "\n",
    "\n",
    "            # Ajouter à la liste des features existantes\n",
    "            if isinstance(unified_features, list):\n",
    "                data[\"features\"] += unified_features\n",
    "            else:\n",
    "                data[\"features\"].append(unified_features)\n",
    "\n",
    "            print(f\"Enregistrement du fichier ../parcelles/commune/{commune}.json\")\n",
    "            with open(f'../parcelles/commune/{commune}.json', 'w') as file:\n",
    "                json.dump(data, file)\n",
    "\n",
    "        table.update(record['id'], {\"Statut\": \"Available\"})\n",
    "        print(\"Le fichier JSON des parcelles a été mis à jour avec succès.\")\n",
    "    except Exception as e:\n",
    "        print(f\"Erreur lors de la mise à jour des parcelles : {e}\")\n",
    "\n",
    "    i+=1"
   ]
  },
  {
   "cell_type": "code",
   "execution_count": null,
   "metadata": {},
   "outputs": [],
   "source": []
  }
 ],
 "metadata": {
  "colab": {
   "authorship_tag": "ABX9TyOIuSKDggvuk5WKXuXM9omz",
   "mount_file_id": "1wOIZg13OFf8GBDsZ_vnFnSJDApTB2_xa",
   "provenance": []
  },
  "kernelspec": {
   "display_name": "project",
   "language": "python",
   "name": "python3"
  },
  "language_info": {
   "codemirror_mode": {
    "name": "ipython",
    "version": 3
   },
   "file_extension": ".py",
   "mimetype": "text/x-python",
   "name": "python",
   "nbconvert_exporter": "python",
   "pygments_lexer": "ipython3",
   "version": "3.10.6"
  },
  "toc": {
   "base_numbering": 1,
   "nav_menu": {},
   "number_sections": true,
   "sideBar": true,
   "skip_h1_title": false,
   "title_cell": "Table of Contents",
   "title_sidebar": "Contents",
   "toc_cell": false,
   "toc_position": {},
   "toc_section_display": true,
   "toc_window_display": false
  }
 },
 "nbformat": 4,
 "nbformat_minor": 1
}

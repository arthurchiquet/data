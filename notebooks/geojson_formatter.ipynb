{
 "cells": [
  {
   "cell_type": "code",
   "execution_count": 3,
   "metadata": {
    "executionInfo": {
     "elapsed": 677,
     "status": "ok",
     "timestamp": 1732634518594,
     "user": {
      "displayName": "Arthur Chiquet",
      "userId": "16057089693707298853"
     },
     "user_tz": -60
    },
    "id": "Ult59nm1MeU7"
   },
   "outputs": [],
   "source": [
    "import json\n",
    "import pandas as pd\n",
    "import requests\n",
    "from turfpy.transformation import intersect, union\n",
    "from geojson import FeatureCollection"
   ]
  },
  {
   "cell_type": "code",
   "execution_count": 4,
   "metadata": {},
   "outputs": [],
   "source": [
    "url_1 = \"https://raw.githubusercontent.com/gregoiredavid/france-geojson/refs/heads/master/departements/51-marne/departement-51-marne.geojson\"\n",
    "url_2 = \"https://raw.githubusercontent.com/gregoiredavid/france-geojson/refs/heads/master/departements/10-aube/departement-10-aube.geojson\"\n",
    "url_3 = \"https://raw.githubusercontent.com/gregoiredavid/france-geojson/refs/heads/master/departements/02-aisne/departement-02-aisne.geojson\"\n",
    "url_4 = \"https://raw.githubusercontent.com/gregoiredavid/france-geojson/refs/heads/master/departements/52-haute-marne/departement-52-haute-marne.geojson\"\n",
    "url_5 = \"https://raw.githubusercontent.com/gregoiredavid/france-geojson/refs/heads/master/departements/77-seine-et-marne/departement-77-seine-et-marne.geojson\"\n",
    "departements = []\n",
    "for url in [url_1, url_2, url_3, url_4, url_5]:\n",
    "  res = requests.get(url)\n",
    "  departements.append(res.json())\n",
    "geojson = FeatureCollection(departements)\n"
   ]
  },
  {
   "cell_type": "code",
   "execution_count": 7,
   "metadata": {},
   "outputs": [],
   "source": [
    "with open('../departements.geojson', \"w\") as file:\n",
    "  json.dump(geojson, file)"
   ]
  },
  {
   "cell_type": "code",
   "execution_count": 22,
   "metadata": {},
   "outputs": [],
   "source": [
    "df = pd.read_csv('../communes_aoc_champagne.csv', sep=';')\n",
    "df[\"CI\"] = (\n",
    "        df[\"CI\"].astype(str).map(lambda x: (5 - len(x)) * \"0\" + x)\n",
    "    )\n"
   ]
  },
  {
   "cell_type": "code",
   "execution_count": null,
   "metadata": {},
   "outputs": [
    {
     "name": "stdout",
     "output_type": "stream",
     "text": [
      "02161\n",
      "02669\n",
      "51063\n",
      "51064\n",
      "51331\n",
      "51347\n",
      "51411\n",
      "51637\n",
      "51651\n",
      "52018\n"
     ]
    }
   ],
   "source": [
    "communes = []\n",
    "for c in df.CI.tolist():\n",
    "  url = f\"https://cadastre.data.gouv.fr/bundler/cadastre-etalab/communes/{c}/geojson/communes\"\n",
    "  try:\n",
    "    res = requests.get(url)\n",
    "    communes += res.json()['features']\n",
    "  except:\n",
    "    print(c)\n"
   ]
  },
  {
   "cell_type": "code",
   "execution_count": 25,
   "metadata": {},
   "outputs": [],
   "source": [
    "with open('../communes_production.geojson', \"w\") as file:\n",
    "  json.dump(FeatureCollection(communes), file)"
   ]
  },
  {
   "cell_type": "code",
   "execution_count": 1,
   "metadata": {},
   "outputs": [],
   "source": [
    "import geopandas as gpd\n",
    "\n",
    "# Charger le fichier GeoJSON\n",
    "gdf = gpd.read_file(\"../communes_production.geojson\")\n",
    "\n",
    "# Simplifier chaque géométrie en fonction d'une tolérance (en unités CRS)\n",
    "gdf['geometry'] = gdf['geometry'].simplify(tolerance=0.0001, preserve_topology=True)\n",
    "\n",
    "# Sauvegarder le fichier allégé\n",
    "gdf.to_file(\"../communes_production_light.geojson\", driver='GeoJSON')"
   ]
  },
  {
   "cell_type": "code",
   "execution_count": 1,
   "metadata": {},
   "outputs": [],
   "source": [
    "import geopandas as gpd\n",
    "\n",
    "# Charger les fichiers GeoJSON\n",
    "geojson1 = gpd.read_file(\"../vineyard.geojson\")\n",
    "geojson2 = gpd.read_file(\"../communes_production.geojson\")"
   ]
  },
  {
   "cell_type": "code",
   "execution_count": 2,
   "metadata": {},
   "outputs": [],
   "source": [
    "intersection = gpd.overlay(geojson1, geojson2, how='intersection')\n",
    "\n",
    "# Sauvegarder le résultat\n",
    "intersection.to_file(\"../communes_aoc.geojson\", driver=\"GeoJSON\")"
   ]
  },
  {
   "cell_type": "code",
   "execution_count": null,
   "metadata": {},
   "outputs": [],
   "source": []
  }
 ],
 "metadata": {
  "colab": {
   "authorship_tag": "ABX9TyNDjc0/8sHMu4+dXCwBh8N9",
   "provenance": []
  },
  "kernelspec": {
   "display_name": "project",
   "language": "python",
   "name": "python3"
  },
  "language_info": {
   "codemirror_mode": {
    "name": "ipython",
    "version": 3
   },
   "file_extension": ".py",
   "mimetype": "text/x-python",
   "name": "python",
   "nbconvert_exporter": "python",
   "pygments_lexer": "ipython3",
   "version": "3.10.6"
  }
 },
 "nbformat": 4,
 "nbformat_minor": 0
}

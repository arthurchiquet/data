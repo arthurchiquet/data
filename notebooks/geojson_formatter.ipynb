{
 "cells": [
  {
   "cell_type": "code",
   "execution_count": 12,
   "metadata": {
    "executionInfo": {
     "elapsed": 677,
     "status": "ok",
     "timestamp": 1732634518594,
     "user": {
      "displayName": "Arthur Chiquet",
      "userId": "16057089693707298853"
     },
     "user_tz": -60
    },
    "id": "Ult59nm1MeU7"
   },
   "outputs": [],
   "source": [
    "import json\n",
    "import pandas as pd\n",
    "from turfpy.transformation import intersect, union\n",
    "from geojson import FeatureCollection"
   ]
  },
  {
   "cell_type": "code",
   "execution_count": 13,
   "metadata": {
    "id": "Ay3Nwhp6sM-_"
   },
   "outputs": [],
   "source": [
    "with open(\"../export.geojson\", \"r\") as file:\n",
    "  vineyard = json.load(file)"
   ]
  },
  {
   "cell_type": "code",
   "execution_count": 22,
   "metadata": {},
   "outputs": [],
   "source": [
    "new_vineyard = []\n",
    "for f in vineyard['features']:\n",
    "  new_vineyard.append({'type': 'Feature', 'geometry': f['geometry'], \"properties\": {}})\n"
   ]
  },
  {
   "cell_type": "code",
   "execution_count": 23,
   "metadata": {},
   "outputs": [],
   "source": [
    "new_geojson = FeatureCollection(new_vineyard)"
   ]
  },
  {
   "cell_type": "code",
   "execution_count": 24,
   "metadata": {},
   "outputs": [],
   "source": [
    "with open('../vineyard.geojson', \"w\") as file:\n",
    "  json.dump(new_geojson, file)"
   ]
  },
  {
   "cell_type": "code",
   "execution_count": null,
   "metadata": {},
   "outputs": [],
   "source": []
  }
 ],
 "metadata": {
  "colab": {
   "authorship_tag": "ABX9TyNDjc0/8sHMu4+dXCwBh8N9",
   "provenance": []
  },
  "kernelspec": {
   "display_name": "project",
   "language": "python",
   "name": "python3"
  },
  "language_info": {
   "codemirror_mode": {
    "name": "ipython",
    "version": 3
   },
   "file_extension": ".py",
   "mimetype": "text/x-python",
   "name": "python",
   "nbconvert_exporter": "python",
   "pygments_lexer": "ipython3",
   "version": "3.10.6"
  }
 },
 "nbformat": 4,
 "nbformat_minor": 0
}

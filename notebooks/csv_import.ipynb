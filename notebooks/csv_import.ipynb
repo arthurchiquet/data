{
 "cells": [
  {
   "cell_type": "markdown",
   "metadata": {
    "id": "z6BR7f69-I4t"
   },
   "source": []
  },
  {
   "cell_type": "code",
   "execution_count": 1,
   "metadata": {
    "executionInfo": {
     "elapsed": 235,
     "status": "ok",
     "timestamp": 1732550135623,
     "user": {
      "displayName": "Arthur Chiquet",
      "userId": "16057089693707298853"
     },
     "user_tz": -60
    },
    "id": "FPjA11fhSdEt"
   },
   "outputs": [],
   "source": [
    "from pyairtable import Api\n",
    "from pyairtable.formulas import match\n",
    "import pandas as pd\n",
    "import requests\n",
    "import json\n",
    "from collections import defaultdict\n",
    "from turfpy.transformation import union\n",
    "from geojson import FeatureCollection, Feature\n",
    "\n",
    "api_airtable_key = \"patfZxFRQiBjvIvvo.677f2eac18aacda776f61eace4bd46c28c6c393db89afd086a41933bd2f39ad2\"\n",
    "MAPBOX_TOKEN = \"pk.eyJ1IjoiYXJ0aHVyY2hpcXVldCIsImEiOiJjbHBoaHB6MncwMXNlMmxucDBlYndpaW93In0.Muo3cgXaUJjMC14H9bXfUw\""
   ]
  },
  {
   "cell_type": "code",
   "execution_count": 2,
   "metadata": {
    "executionInfo": {
     "elapsed": 299,
     "status": "ok",
     "timestamp": 1732550176528,
     "user": {
      "displayName": "Arthur Chiquet",
      "userId": "16057089693707298853"
     },
     "user_tz": -60
    },
    "id": "C1BVyRDNCGYK"
   },
   "outputs": [],
   "source": [
    "colonnes_fiches = [\n",
    "    \"codecommune\",\n",
    "    \"nomcommune\",\n",
    "    \"sectioncadastrale\",\n",
    "    \"numeroplan\",\n",
    "    \"lieuxdit\",\n",
    "    \"nomproprietaire\",\n",
    "    \"modedefairevaloir\",\n",
    "    \"nomcepage\",\n",
    "    \"nomportegreffe\",\n",
    "    \"anneeplantation\",\n",
    "    \"surfaceplantee\"\n",
    "]"
   ]
  },
  {
   "cell_type": "code",
   "execution_count": 3,
   "metadata": {
    "executionInfo": {
     "elapsed": 338,
     "status": "ok",
     "timestamp": 1732550181338,
     "user": {
      "displayName": "Arthur Chiquet",
      "userId": "16057089693707298853"
     },
     "user_tz": -60
    },
    "id": "elwwLDVXDhO8"
   },
   "outputs": [],
   "source": [
    "def formater_fiche(df):\n",
    "    df = (\n",
    "        df.groupby([\"codecommune\", \"sectioncadastrale\", \"numeroplan\"])\n",
    "        .agg(\n",
    "            {\n",
    "                \"nomproprietaire\": \"first\",\n",
    "                \"nomcommune\": \"first\",\n",
    "                \"lieuxdit\": \"first\",\n",
    "                \"nomcepage\": list,\n",
    "                \"anneeplantation\": list,\n",
    "                \"surfaceplantee\": \"sum\",\n",
    "            }\n",
    "        )\n",
    "        .reset_index()\n",
    "    )\n",
    "\n",
    "    df[\"codecommune\"]=df[\"codecommune\"].astype(str).map(lambda x: x[:2]+x[3:])\n",
    "\n",
    "    df[\"sectioncadastrale\"] = (\n",
    "        df[\"sectioncadastrale\"]\n",
    "        .map(lambda x: x.replace(\" \", \"\"))\n",
    "        .map(lambda x: (2 - len(x)) * \"0\" + x)\n",
    "    )\n",
    "\n",
    "    df[\"numeroplan\"] = (\n",
    "        df[\"numeroplan\"].astype(str).map(lambda x: (4 - len(x)) * \"0\" + x)\n",
    "    )\n",
    "\n",
    "    df[\"nomcepage\"] = df[\"nomcepage\"].map(lambda x: \" & \".join(sorted(set(map(str, x)))))\n",
    "    df[\"anneeplantation\"] = df[\"anneeplantation\"].map(lambda x: \" & \".join(sorted(set(map(str, x)))))\n",
    "    df[\"id\"] = df[\"codecommune\"] + \"000\" + df[\"sectioncadastrale\"] + df[\"numeroplan\"]\n",
    "    return df[[\"id\", \"codecommune\", \"lieuxdit\", \"nomcepage\", \"anneeplantation\", \"surfaceplantee\"]]"
   ]
  },
  {
   "cell_type": "code",
   "execution_count": 4,
   "metadata": {
    "executionInfo": {
     "elapsed": 236,
     "status": "ok",
     "timestamp": 1732550191541,
     "user": {
      "displayName": "Arthur Chiquet",
      "userId": "16057089693707298853"
     },
     "user_tz": -60
    },
    "id": "Der4Uqv7_CGS"
   },
   "outputs": [],
   "source": [
    "# def get_features(df, nom):\n",
    "#   features = []\n",
    "#   for i in range(df.shape[0]):\n",
    "\n",
    "#       try:\n",
    "#           res = requests.get(\n",
    "#               f\"https://apicarto.ign.fr/api/cadastre/parcelle?code_insee={df['codecommune'][i]}&section={df['sectioncadastrale'][i]}&numero={df['numeroplan'][i]}&source_ign=PCI\"\n",
    "#           )\n",
    "#           res.raise_for_status()\n",
    "#           coordinates = res.json()[\"features\"][0][\"geometry\"][\"coordinates\"][0]\n",
    "#       except requests.ConnectionError:\n",
    "#           break\n",
    "#       except requests.RequestException:\n",
    "#           break\n",
    "#       except IndexError:\n",
    "#           coordinates = [[]]\n",
    "#       except KeyError:\n",
    "#           coordinates = [[]]\n",
    "#       features.append({\n",
    "#               \"id\" : abs(hash(df[\"id\"][i])),\n",
    "#               \"type\": \"Feature\",\n",
    "#               \"geometry\": {\n",
    "#                   \"type\": \"Polygon\",\n",
    "#                   \"coordinates\": coordinates,\n",
    "#               },\n",
    "#               \"properties\": {\n",
    "#                   \"nomproprietaire\": nom,\n",
    "#                   \"codecommune\": df[\"codecommune\"][i],\n",
    "#                   \"nom\": df[\"lieuxdit\"][i],\n",
    "#                   \"cepage\": df[\"nomcepage\"][i],\n",
    "#                   \"annee\": df[\"anneeplantation\"][i],\n",
    "#                   \"surface_p\": int(df[\"surfaceplantee\"][i])\n",
    "#               }\n",
    "#           })\n",
    "#       print(f\"{i+1}/{df.shape[0]} parcelle(s) téléchargée(s)\")\n",
    "#   return features"
   ]
  },
  {
   "cell_type": "code",
   "execution_count": 5,
   "metadata": {},
   "outputs": [],
   "source": [
    "def df_to_dict(df):\n",
    "    # Grouper le DataFrame par 'codecommune'\n",
    "    result = df.groupby(\"codecommune\").apply(\n",
    "        lambda group: group[[\"id\", \"codecommune\", \"lieuxdit\", \"nomcepage\", \"anneeplantation\", \"surfaceplantee\"]].to_dict(orient=\"records\")\n",
    "    ).to_dict()\n",
    "\n",
    "    return result"
   ]
  },
  {
   "cell_type": "code",
   "execution_count": 6,
   "metadata": {
    "executionInfo": {
     "elapsed": 456,
     "status": "ok",
     "timestamp": 1732551055710,
     "user": {
      "displayName": "Arthur Chiquet",
      "userId": "16057089693707298853"
     },
     "user_tz": -60
    },
    "id": "syv4k830_VPn"
   },
   "outputs": [],
   "source": [
    "api = Api(api_airtable_key)\n",
    "table = api.table('app08SGfxSPaGDDEH', 'tbl0Iz3svkG3iY4Xo')\n",
    "records = table.all(formula=match({\"Statut\": \"Pending\"}))"
   ]
  },
  {
   "cell_type": "code",
   "execution_count": 7,
   "metadata": {},
   "outputs": [],
   "source": [
    "# record = records[0]\n",
    "# csv_url = record['fields']['Parcellaire'][0]['url']\n",
    "\n",
    "# # Lecture et nettoyage du fichier CSV\n",
    "# df = pd.read_csv(csv_url, sep=\";\")\n",
    "# df.columns = (\n",
    "#     df.columns.str.replace(\" \", \"\")\n",
    "#     .str.replace(\"_\", \"\")\n",
    "#     .str.replace(\"-\", \"\")\n",
    "# )\n",
    "\n",
    "# # Traitement des données du fichier CSV\n",
    "# clean_df = formater_fiche(df)\n",
    "# clean_df[clean_df.codecommune == \"51030\"].set_index('id').to_dict(\"index\")"
   ]
  },
  {
   "cell_type": "code",
   "execution_count": 8,
   "metadata": {},
   "outputs": [],
   "source": [
    "record = records[0]"
   ]
  },
  {
   "cell_type": "code",
   "execution_count": 9,
   "metadata": {},
   "outputs": [
    {
     "data": {
      "text/plain": [
       "{'Email': 'arthur.chiquet@gmail.com',\n",
       " 'Statut': 'Pending',\n",
       " 'Nom': 'Champagne Jacquesson',\n",
       " 'Adresse': '99 rue du colonel fabien, 51530 dizy',\n",
       " 'Description': 'sdffsfs\\n',\n",
       " 'Téléphone': '(064) 547-1323',\n",
       " 'Parcellaire': [{'id': 'attt9XttLsqsxndLq',\n",
       "   'url': 'https://v5.airtableusercontent.com/v3/u/36/36/1733875200000/tfWWk__zrp7PaI5CMj5X9A/ByECDyOpbOOP-bPlLEeqKiv_HXJdZiZwNGXvcn2l8dc66VqREYcIiWvsfo9hAIiFhKM5nsFGY6XJZ6f4o5iviXvCaxfYBfepK6haVpKjP3X72zIJlebaI1S82cpvQVpxKjQegfg-5fVagJOoBQMV1hYuzGZxVIMhUobpJRVohX93jRpifQf-_9iov4Uv1DYe/4WgWyH2QMkyaQZMIPDwFXn9k9XCmEXcnNlsX00P49BU',\n",
       "   'filename': 'ParcellaireDetail_29_11_2024.csv',\n",
       "   'size': 5062,\n",
       "   'type': 'text/csv'}],\n",
       " 'Type': 'Viticulture bio',\n",
       " 'Dernière modification': '2024-12-10T17:34:27.000Z'}"
      ]
     },
     "execution_count": 9,
     "metadata": {},
     "output_type": "execute_result"
    }
   ],
   "source": [
    "record['fields']"
   ]
  },
  {
   "cell_type": "code",
   "execution_count": 10,
   "metadata": {
    "colab": {
     "base_uri": "https://localhost:8080/"
    },
    "executionInfo": {
     "elapsed": 20126,
     "status": "ok",
     "timestamp": 1732551077296,
     "user": {
      "displayName": "Arthur Chiquet",
      "userId": "16057089693707298853"
     },
     "user_tz": -60
    },
    "id": "zbT2F0Vuwyqo",
    "outputId": "52ba2320-c781-4e33-dbec-688e1379f244"
   },
   "outputs": [
    {
     "name": "stdout",
     "output_type": "stream",
     "text": [
      "record 1/3\n",
      "Enregistrement du fichier ../parcelles/51030.json\n",
      "Enregistrement du fichier ../parcelles/51119.json\n",
      "Enregistrement du fichier ../parcelles/51210.json\n",
      "Enregistrement du fichier ../parcelles/51287.json\n",
      "Le fichier JSON des parcelles a été mis à jour avec succès.\n",
      "record 2/3\n",
      "Enregistrement du fichier ../parcelles/51210.json\n",
      "Le fichier JSON des parcelles a été mis à jour avec succès.\n",
      "record 3/3\n",
      "Enregistrement du fichier ../parcelles/51210.json\n",
      "Le fichier JSON des parcelles a été mis à jour avec succès.\n"
     ]
    }
   ],
   "source": [
    "i = 1\n",
    "# Traitement des enregistrements\n",
    "for record in records:\n",
    "    print(f\"record {i}/{len(records)}\")\n",
    "    nom = record['fields']['Nom']\n",
    "    adresse = record['fields']['Adresse']\n",
    "    csv_url = record['fields']['Parcellaire'][0]['url']\n",
    "    record['fields'].pop('Parcellaire')\n",
    "    record['fields'].pop('Statut')\n",
    "\n",
    "    with open(f'../exploitations/{nom}.json', 'w') as file:\n",
    "        json.dump(record['fields'], file)\n",
    "\n",
    "\n",
    "\n",
    "    # Lecture et nettoyage du fichier CSV\n",
    "    df = pd.read_csv(csv_url, sep=\";\")\n",
    "    df.columns = (\n",
    "        df.columns.str.replace(\" \", \"\")\n",
    "        .str.replace(\"_\", \"\")\n",
    "        .str.replace(\"-\", \"\")\n",
    "    )\n",
    "\n",
    "    # Validation du format des données\n",
    "    if df.columns.tolist() != colonnes_fiches:\n",
    "        print(\"Le format de données ne correspond pas. Veuillez vérifier l'intitulé des colonnes de votre fichier\")\n",
    "        break\n",
    "    elif df.shape[0] == 0:\n",
    "        print(\"Le fichier est vide\")\n",
    "        break\n",
    "\n",
    "    # Traitement des données du fichier CSV\n",
    "    clean_df = formater_fiche(df)\n",
    "    clean_df['nom'] = nom\n",
    "\n",
    "    for commune in clean_df.codecommune.unique():\n",
    "        try:\n",
    "            with open(f'../parcelles/{commune}.json', 'r') as file:\n",
    "                data = json.load(file)\n",
    "        except FileNotFoundError:\n",
    "            data = {}\n",
    "\n",
    "        filtered_df = clean_df[clean_df.codecommune == commune].set_index('id').to_dict(\"index\")\n",
    "        updated_data = data.update(filtered_df)\n",
    "        print(f\"Enregistrement du fichier ../parcelles/{commune}.json\")\n",
    "        with open(f'../parcelles/{commune}.json', 'w') as file:\n",
    "            json.dump(data, file)\n",
    "\n",
    "    table.update(record['id'], {\"Statut\": \"Available\"})\n",
    "    print(\"Le fichier JSON des parcelles a été mis à jour avec succès.\")\n",
    "\n",
    "    i+=1"
   ]
  },
  {
   "cell_type": "code",
   "execution_count": null,
   "metadata": {},
   "outputs": [],
   "source": []
  }
 ],
 "metadata": {
  "colab": {
   "authorship_tag": "ABX9TyOIuSKDggvuk5WKXuXM9omz",
   "mount_file_id": "1wOIZg13OFf8GBDsZ_vnFnSJDApTB2_xa",
   "provenance": []
  },
  "kernelspec": {
   "display_name": "project",
   "language": "python",
   "name": "python3"
  },
  "language_info": {
   "codemirror_mode": {
    "name": "ipython",
    "version": 3
   },
   "file_extension": ".py",
   "mimetype": "text/x-python",
   "name": "python",
   "nbconvert_exporter": "python",
   "pygments_lexer": "ipython3",
   "version": "3.10.6"
  },
  "toc": {
   "base_numbering": 1,
   "nav_menu": {},
   "number_sections": true,
   "sideBar": true,
   "skip_h1_title": false,
   "title_cell": "Table of Contents",
   "title_sidebar": "Contents",
   "toc_cell": false,
   "toc_position": {},
   "toc_section_display": true,
   "toc_window_display": false
  }
 },
 "nbformat": 4,
 "nbformat_minor": 1
}
